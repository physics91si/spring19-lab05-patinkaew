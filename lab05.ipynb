{
 "cells": [
  {
   "cell_type": "code",
   "execution_count": null,
   "metadata": {},
   "outputs": [],
   "source": [
    "# from __future__ import print_function, division"
   ]
  },
  {
   "cell_type": "code",
   "execution_count": null,
   "metadata": {},
   "outputs": [],
   "source": [
    "import numpy as np\n",
    "import matplotlib.pyplot as plt"
   ]
  },
  {
   "cell_type": "markdown",
   "metadata": {},
   "source": [
    "# Part 1"
   ]
  },
  {
   "cell_type": "code",
   "execution_count": null,
   "metadata": {},
   "outputs": [],
   "source": [
    "def integrate(y, dx):\n",
    "    \"\"\"\n",
    "    Takes an array of y-values and a step size dx of the corresponding x values \n",
    "    and numerically integrates the function, returning the final value\n",
    "    \"\"\"\n",
    "    counter = 0\n",
    "    for yi in y:\n",
    "        counter += dx * yi\n",
    "    return counter"
   ]
  },
  {
   "cell_type": "code",
   "execution_count": null,
   "metadata": {},
   "outputs": [],
   "source": [
    "def plot_fn(xarr, yarr, title=''):\n",
    "    \"\"\"\n",
    "    Basic plotting function\n",
    "    \"\"\"\n",
    "    plt.plot(xarr, yarr)\n",
    "    plt.title(title)\n",
    "    plt.xlabel('x')\n",
    "    plt.ylabel('y')\n",
    "    plt.show()"
   ]
  },
  {
   "cell_type": "code",
   "execution_count": null,
   "metadata": {},
   "outputs": [],
   "source": [
    "# TODO write code here to setup arrays x and y = sin(x) and then plot them by calling plot_fn\n",
    "x_arr = np.arange(0, 2 * np.pi, 0.01)\n",
    "y_arr = np.array(np.sin(x_arr))\n",
    "plot_fn(x_arr, y_arr, \"y = sin(x)\")"
   ]
  },
  {
   "cell_type": "code",
   "execution_count": null,
   "metadata": {},
   "outputs": [],
   "source": [
    "# TODO then integrate y \n",
    "print(integrate(y_arr[:int(len(y_arr)/4)], 0.01)) #0 to pi/2\n",
    "print(integrate(y_arr[:int(len(y_arr)/2)], 0.01)) #0 to pi\n",
    "print(integrate(y_arr, 0.01)) #0 to 2pi"
   ]
  },
  {
   "cell_type": "code",
   "execution_count": null,
   "metadata": {},
   "outputs": [],
   "source": [
    "# TODO now use a np function to integrate y and compare\n",
    "print(np.trapz(y_arr[:int(len(y_arr)/4)], dx = 0.01)) #0 to pi/2\n",
    "print(np.trapz(y_arr[:int(len(y_arr)/2)], dx = 0.01)) #0 to pi\n",
    "print(np.trapz(y_arr, dx = 0.01)) #0 to 2pi"
   ]
  },
  {
   "cell_type": "code",
   "execution_count": null,
   "metadata": {},
   "outputs": [],
   "source": [
    "# TODO find local maxima and minima of sinx from 0 to 6*pi\n",
    "x = np.arange(0, 6 * np.pi, 0.01)\n",
    "y = np.array(np.sin(x))\n",
    "dy = np.diff(y) / 0.01\n",
    "sign_dy = np.sign(dy)\n",
    "last = sign_dy[0]\n",
    "max_rslt = []\n",
    "min_rslt = []\n",
    "for i, value in enumerate(sign_dy):\n",
    "    if last < 0 and value > 0:\n",
    "        min_rslt.append(x[i])\n",
    "        last = value\n",
    "    elif last > 0 and value < 0:\n",
    "        max_rslt.append(x[i])\n",
    "        last = value\n",
    "\n",
    "print(\"x values of local maximums\")\n",
    "print(max_rslt)\n",
    "print(np.diff(max_rslt)) #should be about 2pi\n",
    "print(\"\\nx values of local minimums\")\n",
    "print(min_rslt)\n",
    "print(np.diff(min_rslt)) #should be about 2pi"
   ]
  },
  {
   "cell_type": "markdown",
   "metadata": {},
   "source": [
    "# Part 2"
   ]
  },
  {
   "cell_type": "code",
   "execution_count": null,
   "metadata": {},
   "outputs": [],
   "source": [
    "def wavepacket(x, k, sigma):\n",
    "    \"\"\"\n",
    "    This function creates a wavepacket on the interval defined by x with\n",
    "    wavevector k and standard deviation sigma.\n",
    "    \"\"\"\n",
    "    return np.sin(k*x) *  np.exp(-(x**2)/(2*sigma**2))"
   ]
  },
  {
   "cell_type": "code",
   "execution_count": null,
   "metadata": {},
   "outputs": [],
   "source": [
    "def noisy_packet(x_values, k, sigma, noise_amplitude):\n",
    "    \"\"\"\n",
    "    This function returns a noisy Gaussian wavepacket with wave\n",
    "    vector k, standard deviation sigma and Gaussian noise of standard\n",
    "    deviation noise_amplitude.\n",
    "    \"\"\"\n",
    "    clean_y = wavepacket(x_values,k,sigma)\n",
    "    noisy_y = clean_y + noise_amplitude*np.random.randn(len(x_values))\n",
    "    return noisy_y"
   ]
  },
  {
   "cell_type": "code",
   "execution_count": null,
   "metadata": {},
   "outputs": [],
   "source": [
    "def clean_data(x_values,y_values):\n",
    "    \"\"\"\n",
    "    This function should take a set of y_values, perform the Fourier\n",
    "    transform on it, filter out the high frequency noise, transform the\n",
    "    signal back into real space, and return it.\n",
    "    \"\"\"\n",
    "\n",
    "    # TODO edit this function\n",
    "    y_fft = np.fft.rfft(y_values) # perform Fourier transform\n",
    "    \n",
    "    low_pass_filter = np.ones(y_fft.shape) # build low pass filter for Fourier function\n",
    "    num_freq = y_fft.size\n",
    "    low_pass_filter[int(num_freq/25):num_freq] = 0\n",
    "    \n",
    "    y_clean_values = np.fft.irfft(y_fft  * low_pass_filter, len(y_values))\n",
    "    \n",
    "    return y_clean_values"
   ]
  },
  {
   "cell_type": "code",
   "execution_count": null,
   "metadata": {},
   "outputs": [],
   "source": [
    "# TODO call noisy_packet() to get a Gaussian wave packet, \n",
    "# call clean_data() to apply a low pass filter to the data, and\n",
    "# finally plot the result using plot_fn\n",
    "x = np.arange(0, 2* np.pi, 0.01)\n",
    "\n",
    "noise_packet = noisy_packet(x, 5, 1, 0.2)\n",
    "plot_fn(x, wavepacket(x, 5, 1), \"wavepacket 1\")\n",
    "plot_fn(x, noise_packet, \"noisy packet 1\")\n",
    "plot_fn(x, clean_data(x, noise_packet), \"clean noisy packet 1\")\n",
    "\n",
    "noise_packet = noisy_packet(x, 10, 1, 0.2)\n",
    "plot_fn(x, wavepacket(x, 10, 1), \"wavepacket 2\")\n",
    "plot_fn(x, noise_packet, \"noisy packet 2\")\n",
    "plot_fn(x, clean_data(x, noise_packet), \"clean noisy packet 2\")\n",
    "\n",
    "noise_packet = noisy_packet(x, 10, 1, 0.5)\n",
    "plot_fn(x, wavepacket(x, 10, 1), \"wavepacket 3\")\n",
    "plot_fn(x, noise_packet, \"noisy packet 3\")\n",
    "plot_fn(x, clean_data(x, noise_packet), \"clean noisy packet 3\")"
   ]
  },
  {
   "cell_type": "markdown",
   "metadata": {},
   "source": [
    "# Part 3"
   ]
  },
  {
   "cell_type": "code",
   "execution_count": null,
   "metadata": {},
   "outputs": [],
   "source": [
    "# TODO mask the arrays, then plot\n",
    "def clean_data_mask(x_values, y_values):\n",
    "    m = y_values.copy()\n",
    "    m = np.where(abs(m) > 0.5, 1, 0)\n",
    "    return m\n"
   ]
  },
  {
   "cell_type": "code",
   "execution_count": null,
   "metadata": {},
   "outputs": [],
   "source": [
    "# TODO try to generate masked noisy data and then clean it\n",
    "x = np.arange(0, 2* np.pi, 0.01)\n",
    "noise_packet = noisy_packet(x, 5, 1, 0.2)\n",
    "plot_fn(x, wavepacket(x, 5, 1), \"wavepacket 1\")\n",
    "plot_fn(x, noise_packet, \"noisy packet 1\")\n",
    "m = clean_data_mask(x, noise_packet)\n",
    "x = np.ma.masked_array(x, mask=m)\n",
    "noise_packet = np.ma.masked_array(noise_packet, mask=m)\n",
    "plot_fn(x, noise_packet, \"clean noisy packet 1\")"
   ]
  },
  {
   "cell_type": "code",
   "execution_count": null,
   "metadata": {},
   "outputs": [],
   "source": []
  }
 ],
 "metadata": {
  "kernelspec": {
   "display_name": "Python 3",
   "language": "python",
   "name": "python3"
  },
  "language_info": {
   "codemirror_mode": {
    "name": "ipython",
    "version": 3
   },
   "file_extension": ".py",
   "mimetype": "text/x-python",
   "name": "python",
   "nbconvert_exporter": "python",
   "pygments_lexer": "ipython3",
   "version": "3.7.1"
  }
 },
 "nbformat": 4,
 "nbformat_minor": 2
}
